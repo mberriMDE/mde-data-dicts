{
    "metadata": {
        "kernelspec": {
            "name": "SQL",
            "display_name": "SQL",
            "language": "sql"
        },
        "language_info": {
            "name": "sql",
            "version": ""
        }
    },
    "nbformat_minor": 2,
    "nbformat": 4,
    "cells": [
        {
            "cell_type": "code",
            "source": [
                "WITH LastDateCTE AS (\n",
                "    SELECT \n",
                "        iw.weaponTypeID,\n",
                "        CAST(dbo.Incident.create_date AS DATE) AS create_date,\n",
                "        ROW_NUMBER() OVER (PARTITION BY value_column ORDER BY date_column DESC) AS rn\n",
                "    FROM dbo.WeaponType wt\n",
                "    JOIN dbo.IncidentWeapon iw ON wt.weaponTypeID = iw.weaponTypeID\n",
                "    JOIN dbo.Incident i ON i.incidentID = iw.incidentID\n",
                ")\n",
                "SELECT \n",
                "    value_column,\n",
                "    date_column AS last_date\n",
                "FROM LastDateCTE\n",
                "WHERE rn = 1\n",
                "ORDER BY value_column;\n",
                "\n",
                "\n",
                "SELECT TOP (1000) [weaponTypeID]\n",
                "      ,[weaponDescription]\n",
                "      ,[tableOrder]\n",
                "  FROM [DIRS].[dbo].[WeaponType]\n",
                "  ORDER BY weaponTypeID"
            ],
            "metadata": {
                "azdata_cell_guid": "4f0ff49d-1ee2-455d-8289-bb79cf2f3b08",
                "language": "sql"
            },
            "outputs": [],
            "execution_count": null
        },
        {
            "cell_type": "code",
            "source": [
                "-- This query selects the records from the Incident offender table where the combination of incidentID and offenderID appear more than once.\r\n",
                "SELECT [incidentOffenderID]\r\n",
                "      ,[incidentID]\r\n",
                "      ,[offenderID]\r\n",
                "      ,[incidentTypeID]\r\n",
                "      ,[offenseTypeID]\r\n",
                "      ,[lastUserModified]\r\n",
                "      ,[lastDateModified]\r\n",
                "FROM [DIRS].[dbo].[IncidentOffender]\r\n",
                "WHERE EXISTS (\r\n",
                "    SELECT 1\r\n",
                "    FROM [DIRS].[dbo].[IncidentOffender] AS sub\r\n",
                "    WHERE sub.incidentID = [DIRS].[dbo].[IncidentOffender].incidentID\r\n",
                "    AND sub.offenderID = [DIRS].[dbo].[IncidentOffender].offenderID\r\n",
                "    GROUP BY sub.incidentID, sub.offenderID\r\n",
                "    HAVING COUNT(*) > 1\r\n",
                ")\r\n",
                "ORDER BY incidentID, offenderID;\r\n",
                ""
            ],
            "metadata": {
                "azdata_cell_guid": "9683b932-ef13-448f-b060-57b1338290c4",
                "language": "sql"
            },
            "outputs": [],
            "execution_count": null
        }
    ]
}