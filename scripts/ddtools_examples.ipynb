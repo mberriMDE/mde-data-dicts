{
 "cells": [
  {
   "cell_type": "code",
   "execution_count": 15,
   "id": "c228b260",
   "metadata": {},
   "outputs": [],
   "source": [
    "import sys\n",
    "import os\n",
    "\n",
    "# Get the current working directory\n",
    "current_dir = os.getcwd()\n",
    "\n",
    "# Construct the path to the parent directory\n",
    "parent_dir = os.path.dirname(current_dir)\n",
    "\n",
    "# Add the parent directory to the Python path\n",
    "sys.path.append(parent_dir)"
   ]
  },
  {
   "cell_type": "code",
   "execution_count": 21,
   "id": "11eaff11",
   "metadata": {},
   "outputs": [],
   "source": [
    "from ddtools.json_excel_conversion import standardize_excel, dd_json_to_excel, dd_excel_to_json, standardize_json\n",
    "from ddtools.custom_cols import get_col_headers\n",
    "from ddtools.fetch_table_info import initialize_data_dict, list_files, update_data_dict\n",
    "from ddtools.search import search_data_dicts\n",
    "import shutil"
   ]
  },
  {
   "cell_type": "markdown",
   "id": "2eb52897",
   "metadata": {},
   "source": [
    "# Example Usage of ddtools' Data Dictionary Functions\n",
    "This notebook contains some of the most common use cases of the ddtools module. There are additional functions in that module that may be helpful aside from these, please review the function documentation in the module code if you would like to learn more.\n",
    "\n",
    "You must have SQL access to the specified servers/tables. These scripts use data from outside what is contained in this repository alone, and therefor the file/SQL tables should be replaced with what is appropriate for your use case.\n",
    "\n",
    "Please do not commit edits of this unless authorized. Instead, make a copy for your own usage in your own file. Make sure to list that file in .gitignore if you plan on committing.\n",
    "\n",
    "## Standardizing Excel Data Dictionaries\n",
    "The new standardized Excel files will be placed in the output_file path."
   ]
  },
  {
   "cell_type": "code",
   "execution_count": 18,
   "id": "2a6d2099",
   "metadata": {},
   "outputs": [
    {
     "name": "stdout",
     "output_type": "stream",
     "text": [
      "..\\..\\data\\RPT\\RDMEnrollment.RPT.uvw_Attendance_data_dict.xlsx\n"
     ]
    },
    {
     "name": "stderr",
     "output_type": "stream",
     "text": [
      "                                                                                                                               \r"
     ]
    }
   ],
   "source": [
    "directories = [\n",
    "    '..\\\\..\\\\data\\\\RPT',\n",
    "]\n",
    "\n",
    "# Get a list of all files in the directory\n",
    "files = []\n",
    "for directory in directories:\n",
    "    files.extend(list_files(directory))\n",
    "\n",
    "for file in files:\n",
    "    print(file)\n",
    "    names = file.split(\"\\\\\")[-1].replace(\"_data_dict.xlsx\", \"\").split(\".\")\n",
    "    database_name = names[0]\n",
    "    output_file = file.replace('RPT\\\\', 'RPT2\\\\')\n",
    "\n",
    "    directory = \"\\\\\".join(output_file.split(\"\\\\\")[0:-1])\n",
    "    if not os.path.exists(directory):\n",
    "        os.makedirs(directory)\n",
    "\n",
    "    if '_data_dict.xlsx' in file:\n",
    "        standardize_excel(file,\n",
    "                            output_file,\n",
    "                            make_json=False,\n",
    "                            find_codes=True,\n",
    "                            order_codes=True,\n",
    "                            maintain_columns=True,\n",
    "                            custom_col_names=get_col_headers(database_name),\n",
    "                            include_web_sleds_info=False)\n",
    "    else:\n",
    "        shutil.copy(file, output_file)"
   ]
  },
  {
   "cell_type": "markdown",
   "id": "de70cd34",
   "metadata": {},
   "source": [
    "## Initializing Data Dictionaries\n",
    "This will create the data dictionary skeleton populated by the column names and metadata that can be pulled directly from SQL."
   ]
  },
  {
   "cell_type": "code",
   "execution_count": 19,
   "id": "57029234",
   "metadata": {},
   "outputs": [
    {
     "name": "stdout",
     "output_type": "stream",
     "text": [
      "Connection successful!\n",
      "Connection successful!\n",
      "uvw_ParticipationDetail\n"
     ]
    }
   ],
   "source": [
    "# Read in the table names\n",
    "with open('..\\\\..\\\\data\\\\rdm_assessments_tables.txt') as f:\n",
    "    tables = [line.strip() for line in f]\n",
    "\n",
    "server = 'EDU-SQLPROD01'\n",
    "database = 'Assessments'\n",
    "view = 'dbo'\n",
    "for table in tables:\n",
    "    data_dict = initialize_data_dict(server, database, view, table)\n",
    "    file_name = f\"..\\\\..\\\\data\\\\initialized\\\\{database}\\\\{database}.{view}.{table}_data_dict.xlsx\"\n",
    "    os.makedirs(os.path.dirname(file_name), exist_ok=True)\n",
    "    dd_json_to_excel(data_dict, file_name)"
   ]
  },
  {
   "cell_type": "markdown",
   "id": "0965ea78",
   "metadata": {},
   "source": [
    "## Update Data Dictionaries\n",
    "This will check for any new columns in the SQL table and add them to the data dictionary. Note that if you want to add new codes as well you must standardize the data dictionary too."
   ]
  },
  {
   "cell_type": "code",
   "execution_count": 22,
   "id": "a0797180",
   "metadata": {},
   "outputs": [],
   "source": [
    "directories = ['data\\\\update']\n",
    "files = []\n",
    "for directory in directories:\n",
    "    files.extend(list_files(directory))\n",
    "for file in files:\n",
    "    table_name = file.split(\"\\\\\")[-1].replace(\n",
    "        \"_data_dict.xlsx\", \"\").replace(\"_Data_Dictionary.xlsx\", \"\")\n",
    "    table_name = f\"[EDU-SQLPROD01].[{table_name.replace('.', '].[')}]\"\n",
    "    names = table_name[1:-1].split('].[')\n",
    "    server_name = names[0]\n",
    "    database_name = names[1]\n",
    "    view_name = names[2]\n",
    "    table_name = names[3]\n",
    "\n",
    "    print(table_name)\n",
    "    dd = dd_excel_to_json(file)\n",
    "    standardized_dd = standardize_json(dd,\n",
    "                                        find_codes=True,\n",
    "                                        order_codes=True)\n",
    "    update_data_dict(server_name, database_name, view_name, table_name,\n",
    "                        standardized_dd)\n",
    "    dd_json_to_excel(standardized_dd, file.replace('update', 'updated'))"
   ]
  },
  {
   "cell_type": "markdown",
   "id": "a0a14f8a",
   "metadata": {},
   "source": [
    "## Search Data Dictionaries"
   ]
  },
  {
   "cell_type": "code",
   "execution_count": 34,
   "id": "3d592984",
   "metadata": {},
   "outputs": [
    {
     "name": "stdout",
     "output_type": "stream",
     "text": [
      "[EDU-SQLPROD01].[Assessments].[dbo].[Assessment_WIDA_VERIFIED_ACCESS].[timeInProgram]\n",
      "[EDU-SQLPROD01].[Assessments].[dbo].[Assessment_WIDA_VERIFIED_WIDAALT].[timeInProgram]\n",
      "[EDU-SQLPROD01].[Assessments].[dbo].[Assessment_WIDA_VERIFIED_WIDAALT].[StudentPerformanceELA]\n",
      "[EDU-SQLPROD01].[Assessments].[dbo].[Assessment_WIDA_VERIFIED_WIDAALT].[ELServicesBilingual]\n",
      "[EDU-SQLPROD01].[Assessments].[dbo].[Assessment_WIDA_VERIFIED_WIDAALT].[ELServicesConsultativeServices]\n",
      "[EDU-SQLPROD01].[Assessments].[dbo].[Assessment_WIDA_VERIFIED_WIDAALT].[ELServicesCoteaching]\n",
      "[EDU-SQLPROD01].[Assessments].[dbo].[Assessment_WIDA_VERIFIED_WIDAALT].[ELServicesESLClassPeriod]\n",
      "[EDU-SQLPROD01].[Assessments].[dbo].[Assessment_WIDA_VERIFIED_WIDAALT].[ELServicesPulloutServices]\n",
      "[EDU-SQLPROD01].[Assessments].[dbo].[Assessment_WIDA_VERIFIED_WIDAALT].[ELServicesPushinServices]\n",
      "[EDU-SQLPROD01].[Assessments].[dbo].[Assessment_WIDA_VERIFIED_WIDAALT].[ELServicesShelteredorContentBasedInstruction]\n",
      "[EDU-SQLPROD01].[Assessments].[dbo].[Assessment_WIDA_VERIFIED_WIDAALT].[ELServicesStructuredImmersion]\n",
      "[EDU-SQLPROD01].[Assessments].[dbo].[Assessment_WIDA_VERIFIED_WIDAALT].[ELServicesNone]\n",
      "[EDU-SQLPROD01].[Assessments].[dbo].[Assessment_WIDA_VERIFIED_WIDAALT].[ELServicesOther]\n",
      "[EDU-SQLPROD01].[Assessments].[dbo].[uvw_PublishedAssessments].[lepFlag]\n",
      "[EDU-SQLPROD01].[Assessments].[dbo].[uvw_PublishedAssessments].[documentCharacteristic1]\n",
      "[EDU-SQLPROD01].[Assessments].[dbo].[uvw_PublishedAssessments].[documentCharacteristic2]\n",
      "[EDU-SQLPROD01].[Assessments].[dbo].[uvw_PublishedAssessments].[Prior2YearLEPFlag]\n",
      "[EDU-SQLPROD01].[MARSS].[dbo].[COEMigrant].[LEP]\n",
      "[EDU-SQLPROD01].[MARSS].[dbo].[student].[LEPIndicator]\n",
      "[EDU-SQLPROD01].[MARSS].[dbo].[student].[LEPBeginDate]\n"
     ]
    }
   ],
   "source": [
    "search_results = search_data_dicts(\n",
    "    directories=['..\\\\..\\\\data\\\\EDU-SQLPROD01\\\\Assessments', '..\\\\..\\\\data\\\\EDU-SQLPROD01\\\\MARSS'],\n",
    "    search_terms=['EL', 'English learner'],\n",
    "    column_names=['Description'],\n",
    "    search_term_op='OR',\n",
    "    match_case=True\n",
    ")\n",
    "for result in search_results:\n",
    "    print(result)"
   ]
  }
 ],
 "metadata": {
  "kernelspec": {
   "display_name": "Python 3",
   "language": "python",
   "name": "python3"
  },
  "language_info": {
   "codemirror_mode": {
    "name": "ipython",
    "version": 3
   },
   "file_extension": ".py",
   "mimetype": "text/x-python",
   "name": "python",
   "nbconvert_exporter": "python",
   "pygments_lexer": "ipython3",
   "version": "3.11.5"
  }
 },
 "nbformat": 4,
 "nbformat_minor": 5
}
